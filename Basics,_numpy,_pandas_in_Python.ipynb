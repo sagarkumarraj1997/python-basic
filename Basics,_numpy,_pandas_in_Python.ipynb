{
  "nbformat": 4,
  "nbformat_minor": 0,
  "metadata": {
    "colab": {
      "name": "Basics, numpy, pandas in Python.ipynb",
      "provenance": [],
      "collapsed_sections": [
        "8mpdvSEy1Zvk",
        "ltb5TcWVvE7l",
        "VDSAp0IfvE70",
        "ictx1E8qvE75",
        "CtEd_AEmvE76",
        "TDPSSuigvE8N",
        "8nTVIESs8ng2",
        "iByafSsk_W2G",
        "DnWsfl3Z_cVM",
        "2R2RPnAtC--R",
        "4gW5VE90Duoa",
        "5obT7WeGFDwc",
        "dQ5q5zH6FNhn",
        "uTnUGmqHGZps",
        "7qySmp6cHm3B",
        "IyK3zWZTJUo7",
        "bPKMsOWSJmue",
        "l2vhfbMzcvuf",
        "sq6-S8OBdeuf"
      ]
    },
    "kernelspec": {
      "display_name": "Python 3",
      "language": "python",
      "name": "python3"
    },
    "language_info": {
      "codemirror_mode": {
        "name": "ipython",
        "version": 3
      },
      "file_extension": ".py",
      "mimetype": "text/x-python",
      "name": "python",
      "nbconvert_exporter": "python",
      "pygments_lexer": "ipython3",
      "version": "3.7.0"
    }
  },
  "cells": [
    {
      "cell_type": "markdown",
      "metadata": {
        "colab_type": "text",
        "id": "tIN8B0n8vE5f"
      },
      "source": [
        "# Basic types and constructions in Python"
      ]
    },
    {
      "cell_type": "markdown",
      "metadata": {
        "colab_type": "text",
        "id": "ZqqDqaZnvE5k"
      },
      "source": [
        "## 1. Basic types: numeric types"
      ]
    },
    {
      "cell_type": "code",
      "metadata": {
        "colab_type": "code",
        "id": "93nU6JCmvE5w",
        "colab": {}
      },
      "source": [
        "# int\n",
        "num = 5\n",
        "print(num)\n",
        "print(type(num))"
      ],
      "execution_count": null,
      "outputs": []
    },
    {
      "cell_type": "code",
      "metadata": {
        "colab_type": "code",
        "id": "StU_X3zUvE54",
        "colab": {}
      },
      "source": [
        "# float\n",
        "num = 13.4\n",
        "print(num)\n",
        "\n",
        "num = 1.5e2\n",
        "print(type(num))"
      ],
      "execution_count": null,
      "outputs": []
    },
    {
      "cell_type": "code",
      "metadata": {
        "colab_type": "code",
        "id": "cqvxMA2NvE5_",
        "colab": {}
      },
      "source": [
        "# Python may convert types\n",
        "num = int(num)\n",
        "print(num, type(num))\n",
        "\n",
        "num = float(num)\n",
        "print(num, type(num))"
      ],
      "execution_count": null,
      "outputs": []
    },
    {
      "cell_type": "markdown",
      "metadata": {
        "colab_type": "text",
        "id": "_WwY2PBhvE6o"
      },
      "source": [
        "## 2. Basic types: **logical types**"
      ]
    },
    {
      "cell_type": "code",
      "metadata": {
        "colab_type": "code",
        "id": "dSlDe81PvE6p",
        "colab": {}
      },
      "source": [
        "# bool\n",
        "print(3 > 4)\n",
        "print(3 <= 3)\n",
        "print(6 >= 6)\n",
        "print(6 < 5)"
      ],
      "execution_count": null,
      "outputs": []
    },
    {
      "cell_type": "code",
      "metadata": {
        "colab_type": "code",
        "id": "q8Z_6dHFvE6r",
        "colab": {}
      },
      "source": [
        "x=False  \n",
        "y=True\n",
        "print(x and y) # logical and\n",
        "print(x or y) # logical or\n",
        "print(not y) # logical not"
      ],
      "execution_count": null,
      "outputs": []
    },
    {
      "cell_type": "code",
      "metadata": {
        "colab_type": "code",
        "id": "ksEl1kBIzJu9",
        "colab": {}
      },
      "source": [
        "# example\n",
        "x, y, z = True, False, True\n",
        "result = x and y or z\n",
        "print(result)"
      ],
      "execution_count": null,
      "outputs": []
    },
    {
      "cell_type": "markdown",
      "metadata": {
        "colab_type": "text",
        "id": "XFUeoYTAzVsh"
      },
      "source": [
        "## 3. Basic types: string"
      ]
    },
    {
      "cell_type": "code",
      "metadata": {
        "colab_type": "code",
        "id": "3UjvQiyIzbsA",
        "colab": {}
      },
      "source": [
        "example_string = \"Python course in ITMO\"\n",
        "print(example_string)\n",
        "print(type(example_string))"
      ],
      "execution_count": null,
      "outputs": []
    },
    {
      "cell_type": "code",
      "metadata": {
        "id": "LYCITar6A89l",
        "colab_type": "code",
        "colab": {}
      },
      "source": [
        "example_string[7]"
      ],
      "execution_count": null,
      "outputs": []
    },
    {
      "cell_type": "code",
      "metadata": {
        "colab_type": "code",
        "id": "LCl3DCKnzbuV",
        "colab": {}
      },
      "source": [
        "# combine strings \n",
        "\"You \" + \"can \" + \"just \" + \"add \" + \"one \" + \"string \" + \"to another \""
      ],
      "execution_count": null,
      "outputs": []
    },
    {
      "cell_type": "code",
      "metadata": {
        "colab_type": "code",
        "id": "c1KfRSyOzbw-",
        "colab": {}
      },
      "source": [
        "# slicing string\n",
        "example_string = \"Python cource in ITMO\"\n",
        "example_string[17:21]"
      ],
      "execution_count": null,
      "outputs": []
    },
    {
      "cell_type": "code",
      "metadata": {
        "colab_type": "code",
        "id": "Eov4RxiC0h-S",
        "colab": {}
      },
      "source": [
        "# 'in' operator \n",
        "\"3.14\" in \"Pi number = 3.1415926\""
      ],
      "execution_count": null,
      "outputs": []
    },
    {
      "cell_type": "code",
      "metadata": {
        "id": "M0lytxjHBfVh",
        "colab_type": "code",
        "colab": {}
      },
      "source": [
        " "
      ],
      "execution_count": null,
      "outputs": []
    },
    {
      "cell_type": "code",
      "metadata": {
        "colab_type": "code",
        "id": "RTU671420vYb",
        "colab": {}
      },
      "source": [
        "example_string = \"ITMO\"\n",
        "for letter in example_string:\n",
        "    print(\"Letter\", letter)"
      ],
      "execution_count": null,
      "outputs": []
    },
    {
      "cell_type": "code",
      "metadata": {
        "colab_type": "code",
        "id": "0M5lu-xn08Ps",
        "colab": {}
      },
      "source": [
        "# create string \n",
        "\"{num} K ought to be enough for anybody. ({author})\".format(\n",
        "    num=\"ITMO\", author=\"Bill Gates\")"
      ],
      "execution_count": null,
      "outputs": []
    },
    {
      "cell_type": "markdown",
      "metadata": {
        "colab_type": "text",
        "id": "8mpdvSEy1Zvk"
      },
      "source": [
        "## 4. Basic types: None object\n",
        "\n"
      ]
    },
    {
      "cell_type": "code",
      "metadata": {
        "colab_type": "code",
        "id": "JfB-l3S-1gGN",
        "colab": {}
      },
      "source": [
        "z = None\n",
        "print(z)\n",
        "print(type(z))"
      ],
      "execution_count": null,
      "outputs": []
    },
    {
      "cell_type": "markdown",
      "metadata": {
        "colab_type": "text",
        "id": "UYVitVAVvE7l"
      },
      "source": [
        "# Collections in Python"
      ]
    },
    {
      "cell_type": "markdown",
      "metadata": {
        "colab_type": "text",
        "id": "ltb5TcWVvE7l"
      },
      "source": [
        "## 1. Collections: list"
      ]
    },
    {
      "cell_type": "code",
      "metadata": {
        "id": "hi6DPqowCMKu",
        "colab_type": "code",
        "colab": {}
      },
      "source": [
        "list0 = []"
      ],
      "execution_count": null,
      "outputs": []
    },
    {
      "cell_type": "code",
      "metadata": {
        "colab_type": "code",
        "id": "PVAnsXJXvE7l",
        "colab": {}
      },
      "source": [
        "saled_goods_count = [33450, 34010, 33990, 33200]\n",
        "\n",
        "print(saled_goods_count)\n",
        "print(type(saled_goods_count))"
      ],
      "execution_count": null,
      "outputs": []
    },
    {
      "cell_type": "code",
      "metadata": {
        "colab_type": "code",
        "id": "aZ2BqQ6zvE7m",
        "colab": {}
      },
      "source": [
        "collections = ['list', 'tuple', 'dict', 'set']\n",
        "\n",
        "print(collections)\n",
        "print(type(collections))"
      ],
      "execution_count": null,
      "outputs": []
    },
    {
      "cell_type": "code",
      "metadata": {
        "colab_type": "code",
        "id": "doLsnmGjvE7p",
        "colab": {}
      },
      "source": [
        "features = ['Ivan Ivanovich', 'Medium', 500000, 12, True]\n",
        "print (features)\n",
        "print(type(features))"
      ],
      "execution_count": null,
      "outputs": []
    },
    {
      "cell_type": "code",
      "metadata": {
        "colab_type": "code",
        "id": "n5D9-VlC3i2f",
        "colab": {}
      },
      "source": [
        "# list length\n",
        "len(collections)"
      ],
      "execution_count": null,
      "outputs": []
    },
    {
      "cell_type": "code",
      "metadata": {
        "colab_type": "code",
        "id": "9AowbgoavE7q",
        "colab": {}
      },
      "source": [
        "# indexes and slices\n",
        "print(collections)\n",
        "\n",
        "print(collections[0])\n",
        "print(collections[-1])"
      ],
      "execution_count": null,
      "outputs": []
    },
    {
      "cell_type": "code",
      "metadata": {
        "colab_type": "code",
        "id": "DzmRHP074K5Q",
        "colab": {}
      },
      "source": [
        "range_list = list(range(5,10))\n",
        "print(range_list)"
      ],
      "execution_count": null,
      "outputs": []
    },
    {
      "cell_type": "code",
      "metadata": {
        "colab_type": "code",
        "id": "iPKWjvlA4P-G",
        "colab": {}
      },
      "source": [
        "range_list[1:3]"
      ],
      "execution_count": null,
      "outputs": []
    },
    {
      "cell_type": "code",
      "metadata": {
        "colab_type": "code",
        "id": "rCzxC5dQ4S-h",
        "colab": {}
      },
      "source": [
        "range_list[3:]"
      ],
      "execution_count": null,
      "outputs": []
    },
    {
      "cell_type": "code",
      "metadata": {
        "colab_type": "code",
        "id": "SHJhgp9m4VbF",
        "colab": {}
      },
      "source": [
        "range_list[:5]"
      ],
      "execution_count": null,
      "outputs": []
    },
    {
      "cell_type": "code",
      "metadata": {
        "colab_type": "code",
        "id": "rFeIRoU-4Vdh",
        "colab": {}
      },
      "source": [
        "range_list[::2]"
      ],
      "execution_count": null,
      "outputs": []
    },
    {
      "cell_type": "code",
      "metadata": {
        "colab_type": "code",
        "id": "g3v2gNIo4Vf9",
        "colab": {}
      },
      "source": [
        "range_list[::-1]"
      ],
      "execution_count": null,
      "outputs": []
    },
    {
      "cell_type": "code",
      "metadata": {
        "colab_type": "code",
        "id": "-ixEdLbw4U6p",
        "colab": {}
      },
      "source": [
        "# iterations\n",
        "collections = ['list', 'tuple', 'dict', 'set']\n",
        "\n",
        "for collection in collections:\n",
        "    print('Learning {}...'.format(collection))"
      ],
      "execution_count": null,
      "outputs": []
    },
    {
      "cell_type": "code",
      "metadata": {
        "colab_type": "code",
        "id": "Fboikg5VvE7s",
        "colab": {}
      },
      "source": [
        "for idx, collection in enumerate(collections):\n",
        "    print('#{} {}'.format(idx, collection))"
      ],
      "execution_count": null,
      "outputs": []
    },
    {
      "cell_type": "code",
      "metadata": {
        "colab_type": "code",
        "id": "4iCFr3rj4qs2",
        "colab": {}
      },
      "source": [
        "# add or remove elements\n",
        "collections.append('OrderedDict')\n",
        "\n",
        "print(collections)"
      ],
      "execution_count": null,
      "outputs": []
    },
    {
      "cell_type": "code",
      "metadata": {
        "colab_type": "code",
        "id": "aS1o2nmo4qvp",
        "colab": {}
      },
      "source": [
        "collections.extend(['ponyset', 'unicorndict'])\n",
        "\n",
        "print(collections)"
      ],
      "execution_count": null,
      "outputs": []
    },
    {
      "cell_type": "code",
      "metadata": {
        "colab_type": "code",
        "id": "nyBqFvO54qyT",
        "colab": {}
      },
      "source": [
        "collections += [None]\n",
        "\n",
        "print(collections)"
      ],
      "execution_count": null,
      "outputs": []
    },
    {
      "cell_type": "code",
      "metadata": {
        "colab_type": "code",
        "id": "6BNQDIRl41MJ",
        "colab": {}
      },
      "source": [
        "del collections[4]\n",
        "\n",
        "print(collections)"
      ],
      "execution_count": null,
      "outputs": []
    },
    {
      "cell_type": "code",
      "metadata": {
        "colab_type": "code",
        "id": "mzBJeG_X43Wh",
        "colab": {}
      },
      "source": [
        "# min, max. sum\n",
        "numbers = [4, 17, 19, 9, 2, 6, 10, 13]\n",
        "\n",
        "print(min(numbers))\n",
        "print(max(numbers))\n",
        "print(sum(numbers))"
      ],
      "execution_count": null,
      "outputs": []
    },
    {
      "cell_type": "markdown",
      "metadata": {
        "colab_type": "text",
        "id": "VDSAp0IfvE70"
      },
      "source": [
        "## 2. Collections: tuple"
      ]
    },
    {
      "cell_type": "code",
      "metadata": {
        "colab_type": "code",
        "id": "ycOgHFQcvE71",
        "colab": {}
      },
      "source": [
        "empty_tuple = ()\n",
        "empty_tuple = tuple()"
      ],
      "execution_count": null,
      "outputs": []
    },
    {
      "cell_type": "code",
      "metadata": {
        "colab_type": "code",
        "id": "QB8ZfMc5vE72",
        "colab": {}
      },
      "source": [
        "immutables = (int, str, tuple)"
      ],
      "execution_count": null,
      "outputs": []
    },
    {
      "cell_type": "code",
      "metadata": {
        "colab_type": "code",
        "id": "Lam1qX5lvE74",
        "colab": {}
      },
      "source": [
        "one_element_tuple = (1,)\n",
        "guess_what = (1)\n",
        "\n",
        "type(guess_what)"
      ],
      "execution_count": null,
      "outputs": []
    },
    {
      "cell_type": "markdown",
      "metadata": {
        "colab_type": "text",
        "id": "ictx1E8qvE75"
      },
      "source": [
        "## 3. Collections: dictionary\n"
      ]
    },
    {
      "cell_type": "code",
      "metadata": {
        "colab_type": "code",
        "id": "9swkXhk35kNb",
        "colab": {}
      },
      "source": [
        "empty_dict = {}\n",
        "empty_dict = dict()\n",
        "\n",
        "collections_map = {\n",
        "    'mutable': ['list', 'set', 'dict'],\n",
        "    'immutable': ['tuple', 'frozenset']\n",
        "}"
      ],
      "execution_count": null,
      "outputs": []
    },
    {
      "cell_type": "code",
      "metadata": {
        "colab_type": "code",
        "id": "JmwVmXL95kPy",
        "colab": {}
      },
      "source": [
        "print(collections_map['immutable'])"
      ],
      "execution_count": null,
      "outputs": []
    },
    {
      "cell_type": "code",
      "metadata": {
        "colab_type": "code",
        "id": "tNbHlIuI5kSH",
        "colab": {}
      },
      "source": [
        "# add elements\n",
        "beatles_map = {\n",
        "    'Paul': 'Bass',\n",
        "    'John': 'Guitar',\n",
        "    'George': 'Guitar',\n",
        "}\n",
        "\n",
        "print(beatles_map)\n",
        "\n",
        "beatles_map['Ringo'] = 'Drums'\n",
        "\n",
        "print(beatles_map)"
      ],
      "execution_count": null,
      "outputs": []
    },
    {
      "cell_type": "code",
      "metadata": {
        "colab_type": "code",
        "id": "PIe5iz3P5kU3",
        "colab": {}
      },
      "source": [
        "# delete elements \n",
        "del beatles_map['John']\n",
        "\n",
        "print(beatles_map)"
      ],
      "execution_count": null,
      "outputs": []
    },
    {
      "cell_type": "code",
      "metadata": {
        "colab_type": "code",
        "id": "wTuSzNW859zS",
        "colab": {}
      },
      "source": [
        "# itteration \n",
        "for key, value in collections_map.items():\n",
        "    print('{} — {}'.format(key, value))"
      ],
      "execution_count": null,
      "outputs": []
    },
    {
      "cell_type": "markdown",
      "metadata": {
        "colab_type": "text",
        "id": "CtEd_AEmvE76"
      },
      "source": [
        "## 4. Collections: set"
      ]
    },
    {
      "cell_type": "code",
      "metadata": {
        "colab_type": "code",
        "id": "k0zkL6xBvE76",
        "colab": {}
      },
      "source": [
        "empty_set = set()\n",
        "number_set = {1, 2, 3, 3, 3, 3, 4, 5}\n",
        "\n",
        "print(number_set)"
      ],
      "execution_count": null,
      "outputs": []
    },
    {
      "cell_type": "code",
      "metadata": {
        "colab_type": "code",
        "id": "x21bNkQTvE78",
        "colab": {}
      },
      "source": [
        "odd_set, odd_set = set(), set()\n",
        "\n",
        "odd_set = {1, 3, 5, 7}\n",
        "even_set = {2, 4, 6, 8}\n",
        "\n",
        "print(odd_set)\n",
        "print(even_set)\n",
        "\n",
        "union_set = odd_set | even_set\n",
        "print(union_set)\n",
        "\n",
        "intersection_set = odd_set & even_set\n",
        "print(intersection_set)\n",
        "for element in union_set:\n",
        "  print(element)"
      ],
      "execution_count": null,
      "outputs": []
    },
    {
      "cell_type": "markdown",
      "metadata": {
        "colab_type": "text",
        "collapsed": true,
        "id": "TDPSSuigvE8N"
      },
      "source": [
        "## Where you can finde more informations about  Python"
      ]
    },
    {
      "cell_type": "markdown",
      "metadata": {
        "colab_type": "text",
        "id": "Kgicm94WvE8O"
      },
      "source": [
        "* https://www.coursera.org/courses?query=Python\n",
        "* https://www.codeacademy.com\n",
        "* http://www.pythontutor.ru\n",
        "* http://www.learnpythonthehardway.org\n",
        "* http://snakify.org\n",
        "* https://www.checkio.org"
      ]
    },
    {
      "cell_type": "markdown",
      "metadata": {
        "colab_type": "text",
        "id": "sk3_ozup8TcX"
      },
      "source": [
        "# Numpy"
      ]
    },
    {
      "cell_type": "markdown",
      "metadata": {
        "colab_type": "text",
        "id": "8nTVIESs8ng2"
      },
      "source": [
        "## Numpy: arrays"
      ]
    },
    {
      "cell_type": "markdown",
      "metadata": {
        "colab_type": "text",
        "id": "iByafSsk_W2G"
      },
      "source": [
        "### Basics "
      ]
    },
    {
      "cell_type": "code",
      "metadata": {
        "colab_type": "code",
        "id": "hROQgEld8mzA",
        "colab": {}
      },
      "source": [
        "import numpy as np"
      ],
      "execution_count": null,
      "outputs": []
    },
    {
      "cell_type": "code",
      "metadata": {
        "colab_type": "code",
        "id": "9ihmKrkl8yN4",
        "colab": {}
      },
      "source": [
        "# array\n",
        "a = np.array([1, 2, 3, 4, 5])\n",
        "print(a)"
      ],
      "execution_count": null,
      "outputs": []
    },
    {
      "cell_type": "code",
      "metadata": {
        "colab_type": "code",
        "id": "XSO1K68B84xE",
        "colab": {}
      },
      "source": [
        "# float type array\n",
        "b = np.array([1.5, 2.6, 3.1, 4.8, 5.0], dtype=float)\n",
        "print(b)"
      ],
      "execution_count": null,
      "outputs": []
    },
    {
      "cell_type": "code",
      "metadata": {
        "colab_type": "code",
        "id": "KU_5dGim9cFn",
        "colab": {}
      },
      "source": [
        "# boolean type array\n",
        "c = np.array([True, False, True], dtype=bool)\n",
        "print(c)"
      ],
      "execution_count": null,
      "outputs": []
    },
    {
      "cell_type": "code",
      "metadata": {
        "colab_type": "code",
        "id": "ZPttOVJx9gUB",
        "colab": {}
      },
      "source": [
        "#another way to create numpy array\n",
        "d = np.arange(start=10, stop=20, step=1) \n",
        "print(d)"
      ],
      "execution_count": null,
      "outputs": []
    },
    {
      "cell_type": "code",
      "metadata": {
        "colab_type": "code",
        "id": "xfs_fle-90nB",
        "colab": {}
      },
      "source": [
        "# numpy array is 1D \n",
        "print(c.ndim)"
      ],
      "execution_count": null,
      "outputs": []
    },
    {
      "cell_type": "code",
      "metadata": {
        "colab_type": "code",
        "id": "5SVtxwth9_HS",
        "colab": {}
      },
      "source": [
        "# operations \n",
        "print(a)\n",
        "print(b)\n",
        "print(a + b) # sum\n",
        "print(a - b) # diff\n",
        "print(a*b)   # multiply"
      ],
      "execution_count": null,
      "outputs": []
    },
    {
      "cell_type": "markdown",
      "metadata": {
        "colab_type": "text",
        "id": "DnWsfl3Z_cVM"
      },
      "source": [
        "###Norms of vector"
      ]
    },
    {
      "cell_type": "markdown",
      "metadata": {
        "colab_type": "text",
        "id": "j49sAKTOADLz"
      },
      "source": [
        "**p-norm**\n",
        "\n",
        "Let p ≥ 1 be a real number. The \n",
        "p-norm of vector $x = (x_{1}, \\dots, x_{n}) \\in \\mathbb{R}^{n}$ is\n",
        "\n",
        "$$\n",
        "\\left\\Vert x \\right\\Vert_{p} = \\left( \\sum_{i=1}^n \\left| x_{i} \\right|^{p} \\right)^{1 / p},~p \\geq 1.\n",
        "$$\n",
        "\n",
        "For p = 1 we get the taxicab norm, for p = 2 we get the Euclidean norm"
      ]
    },
    {
      "cell_type": "code",
      "metadata": {
        "colab_type": "code",
        "id": "bJQ3Jpfo_-dx",
        "colab": {}
      },
      "source": [
        "from numpy.linalg import norm"
      ],
      "execution_count": null,
      "outputs": []
    },
    {
      "cell_type": "markdown",
      "metadata": {
        "colab_type": "text",
        "id": "V0dD5L3BBNhq"
      },
      "source": [
        "**Taxicab norm or Manhattan norm**\n",
        "$$\n",
        " \\left\\Vert x \\right\\Vert_{1} = \\sum_{i=1}^n \\left| x_{i} \\right|.\n",
        "$$"
      ]
    },
    {
      "cell_type": "code",
      "metadata": {
        "colab_type": "code",
        "id": "Mo7ihd98BASc",
        "colab": {}
      },
      "source": [
        "#a = np.array([1, 2, -3])\n",
        "print('L1 norm of vector a: {norm}'.format(norm = norm(a, ord=1)))"
      ],
      "execution_count": null,
      "outputs": []
    },
    {
      "cell_type": "markdown",
      "metadata": {
        "colab_type": "text",
        "id": "pwlZQtBTCVbg"
      },
      "source": [
        "**Euclidean norm**\n",
        "$$\n",
        " \\left\\Vert x \\right\\Vert_{2} = \\sqrt{\\sum_{i=1}^n \\left( x_{i} \\right)^2}.\n",
        "$$"
      ]
    },
    {
      "cell_type": "code",
      "metadata": {
        "colab_type": "code",
        "id": "kxrSTfT0BwDz",
        "colab": {}
      },
      "source": [
        "print('L2 norm of vector a: {norm}'.format(norm = norm(a, ord=2)))"
      ],
      "execution_count": null,
      "outputs": []
    },
    {
      "cell_type": "markdown",
      "metadata": {
        "colab_type": "text",
        "id": "2R2RPnAtC--R"
      },
      "source": [
        "###Distance between arrays"
      ]
    },
    {
      "cell_type": "markdown",
      "metadata": {
        "colab_type": "text",
        "id": "19d6gMx6DEcF"
      },
      "source": [
        "For two arrays $x = (x_{1}, \\dots, x_{n}) \\in \\mathbb{R}^{n}$ и $y = (y_{1}, \\dots, y_{n}) \\in \\mathbb{R}^{n}$ $\\ell_{1}$ and $\\ell_{2}$  distance is calculated as:\n",
        "$$\n",
        " \\rho_{1}\\left( x, y \\right) = \\left\\Vert x - y \\right\\Vert_{1} = \\sum_{i=1}^n \\left| x_{i} - y_{i} \\right|\n",
        "$$\n",
        "\n",
        "$$\n",
        " \\rho_{2}\\left( x, y \\right) = \\left\\Vert x - y \\right\\Vert_{2} = \n",
        " \\sqrt{\\sum_{i=1}^n \\left( x_{i} - y_{i} \\right)^2}.\n",
        "$$"
      ]
    },
    {
      "cell_type": "code",
      "metadata": {
        "colab_type": "code",
        "id": "vEu07TKjC0Yk",
        "colab": {}
      },
      "source": [
        "print('L2 distance between a and b: {dist}'.format(dist = norm(a - b, ord=1)))"
      ],
      "execution_count": null,
      "outputs": []
    },
    {
      "cell_type": "code",
      "metadata": {
        "colab_type": "code",
        "id": "KoxVtq41Dk3W",
        "colab": {}
      },
      "source": [
        "print('L2 distance between a and b: {dist}'.format(dist = norm(a - b, ord=2)))"
      ],
      "execution_count": null,
      "outputs": []
    },
    {
      "cell_type": "markdown",
      "metadata": {
        "colab_type": "text",
        "id": "4gW5VE90Duoa"
      },
      "source": [
        "###Scalar product"
      ]
    },
    {
      "cell_type": "markdown",
      "metadata": {
        "colab_type": "text",
        "id": "cXmNwBXlEXNY"
      },
      "source": [
        "Scallar dot in $\\mathbb{R}^{n}$ of two vectors $x = (x_{1}, \\dots, x_{n})$ и $y = (y_{1}, \\dots, y_{n})$ is:\n",
        "\n",
        "$$\n",
        "\\langle x, y \\rangle = \\sum_{i=1}^n x_{i} y_{i}.\n",
        "$$"
      ]
    },
    {
      "cell_type": "code",
      "metadata": {
        "colab_type": "code",
        "id": "sy4kkhS-D9cq",
        "colab": {}
      },
      "source": [
        "print('Scalar dot of a and b: {dot}'.format(dot = np.dot(a, b)))"
      ],
      "execution_count": null,
      "outputs": []
    },
    {
      "cell_type": "code",
      "metadata": {
        "colab_type": "code",
        "id": "K9JuBQn9EwLv",
        "colab": {}
      },
      "source": [
        "# another way\n",
        "print('Scalar dot of a and b: {dot}'.format(dot = a.dot(b)))"
      ],
      "execution_count": null,
      "outputs": []
    },
    {
      "cell_type": "markdown",
      "metadata": {
        "colab_type": "text",
        "id": "5obT7WeGFDwc"
      },
      "source": [
        "## Numpy: matrix"
      ]
    },
    {
      "cell_type": "markdown",
      "metadata": {
        "colab_type": "text",
        "id": "dQ5q5zH6FNhn"
      },
      "source": [
        "### Basics"
      ]
    },
    {
      "cell_type": "code",
      "metadata": {
        "colab_type": "code",
        "id": "InOjO737FCbE",
        "colab": {}
      },
      "source": [
        "import numpy as np"
      ],
      "execution_count": null,
      "outputs": []
    },
    {
      "cell_type": "code",
      "metadata": {
        "colab_type": "code",
        "id": "Mc6AdwveFXkX",
        "colab": {}
      },
      "source": [
        "a = np.array([[1, 2, 3], [2, 5, 6], [6, 7, 4]])\n",
        "print(a)"
      ],
      "execution_count": null,
      "outputs": []
    },
    {
      "cell_type": "code",
      "metadata": {
        "colab_type": "code",
        "id": "64bo4aL9FXmr",
        "colab": {}
      },
      "source": [
        "# more examples\n",
        "b = np.eye(5)\n",
        "print(b)"
      ],
      "execution_count": null,
      "outputs": []
    },
    {
      "cell_type": "code",
      "metadata": {
        "colab_type": "code",
        "id": "V7Ml_k6JFhnQ",
        "colab": {}
      },
      "source": [
        "c = np.ones((7, 5))\n",
        "print(c)"
      ],
      "execution_count": null,
      "outputs": []
    },
    {
      "cell_type": "code",
      "metadata": {
        "colab_type": "code",
        "id": "R4jyYVtXFlxn",
        "colab": {}
      },
      "source": [
        "v = np.arange(0, 24, 2)\n",
        "print(v)\n",
        "d = v.reshape((3, 4))\n",
        "print(d)"
      ],
      "execution_count": null,
      "outputs": []
    },
    {
      "cell_type": "code",
      "metadata": {
        "colab_type": "code",
        "id": "aJefjzA0Fsq7",
        "colab": {}
      },
      "source": [
        "# indexes\n",
        "print(d)\n",
        "print(d[2, 1])\n",
        "print(d[1, :])\n",
        "print(d[:, 3])"
      ],
      "execution_count": null,
      "outputs": []
    },
    {
      "cell_type": "markdown",
      "metadata": {
        "colab_type": "text",
        "id": "uTnUGmqHGZps"
      },
      "source": [
        "### Matrix and vectors multiplication"
      ]
    },
    {
      "cell_type": "code",
      "metadata": {
        "colab_type": "code",
        "id": "rJMB3P2TGxJ8",
        "colab": {}
      },
      "source": [
        "a = np.array([[1, 0], [0, 1]])\n",
        "b = np.array([[4, 1], [2, 2]])\n",
        "r1 = np.dot(a, b)\n",
        "r2 = a.dot(b)"
      ],
      "execution_count": null,
      "outputs": []
    },
    {
      "cell_type": "code",
      "metadata": {
        "colab_type": "code",
        "id": "6r7MMrXnGxMb",
        "colab": {}
      },
      "source": [
        "print('Matrix a:\\n', a)\n",
        "print('Matrix b:\\n', b)\n",
        "print('Multiplication, 1 method:\\n', r1)\n",
        "print('Multiplication, 2 method:\\n', r2)"
      ],
      "execution_count": null,
      "outputs": []
    },
    {
      "cell_type": "code",
      "metadata": {
        "colab_type": "code",
        "id": "beyqE1-qHJT2",
        "colab": {}
      },
      "source": [
        "c = np.array([1, 2])\n",
        "r3 = b.dot(c)"
      ],
      "execution_count": null,
      "outputs": []
    },
    {
      "cell_type": "code",
      "metadata": {
        "colab_type": "code",
        "id": "0Qu-0TqjHPr2",
        "colab": {}
      },
      "source": [
        "print('Matrix a:\\n', a)\n",
        "print('Vector c:\\n', c)\n",
        "print('Multiplication:\\n', r3)"
      ],
      "execution_count": null,
      "outputs": []
    },
    {
      "cell_type": "markdown",
      "metadata": {
        "colab_type": "text",
        "id": "7qySmp6cHm3B"
      },
      "source": [
        "### Transposition"
      ]
    },
    {
      "cell_type": "code",
      "metadata": {
        "colab_type": "code",
        "id": "QUtZ2VopHW-q",
        "colab": {}
      },
      "source": [
        "a = np.array([[1, 2], [3, 4]])\n",
        "b = np.transpose(a)\n",
        "c = a.T"
      ],
      "execution_count": null,
      "outputs": []
    },
    {
      "cell_type": "code",
      "metadata": {
        "colab_type": "code",
        "id": "iXdbfhiEHyVR",
        "colab": {}
      },
      "source": [
        "print('Matrix a:\\n', a)\n",
        "print('Transposed matrix:\\n', b)\n",
        "print('Transposed matrix:\\n', c)"
      ],
      "execution_count": null,
      "outputs": []
    },
    {
      "cell_type": "markdown",
      "metadata": {
        "colab_type": "text",
        "id": "IyK3zWZTJUo7"
      },
      "source": [
        "### Determinant"
      ]
    },
    {
      "cell_type": "code",
      "metadata": {
        "colab_type": "code",
        "id": "c07n-6-PJYM4",
        "colab": {}
      },
      "source": [
        "a = np.array([[1, 2, 1], [1, 1, 4], [2, 3, 6]], dtype=np.float32)\n",
        "det = np.linalg.det(a)"
      ],
      "execution_count": null,
      "outputs": []
    },
    {
      "cell_type": "code",
      "metadata": {
        "colab_type": "code",
        "id": "X2zKxWe1H8Gu",
        "colab": {}
      },
      "source": [
        "print('Matrix a:\\n', a)\n",
        "print('Determinant of a:\\n', det)"
      ],
      "execution_count": null,
      "outputs": []
    },
    {
      "cell_type": "markdown",
      "metadata": {
        "colab_type": "text",
        "id": "bPKMsOWSJmue"
      },
      "source": [
        "### Rank"
      ]
    },
    {
      "cell_type": "code",
      "metadata": {
        "colab_type": "code",
        "id": "us01AB98JmMp",
        "colab": {}
      },
      "source": [
        "a = np.array([[1, 2, 3], [1, 1, 1], [2, 2, 2]])\n",
        "r = np.linalg.matrix_rank(a)"
      ],
      "execution_count": null,
      "outputs": []
    },
    {
      "cell_type": "code",
      "metadata": {
        "colab_type": "code",
        "id": "5kX_eTgzb6F8",
        "colab": {}
      },
      "source": [
        "print('Matrix a:\\n', a)\n",
        "print('Rank of a:\\n', r)"
      ],
      "execution_count": null,
      "outputs": []
    },
    {
      "cell_type": "code",
      "metadata": {
        "colab_type": "code",
        "id": "tawXZXGpb-aa",
        "colab": {}
      },
      "source": [
        "# check if systems of vectors is linearly independent\n",
        "a = np.array([1, 2, 3])\n",
        "b = np.array([1, 1, 1])\n",
        "c = np.array([2, 3, 5])\n",
        "m = np.array([a, b, c])\n",
        "\n",
        "print(np.linalg.matrix_rank(m) == m.shape[0])"
      ],
      "execution_count": null,
      "outputs": []
    },
    {
      "cell_type": "markdown",
      "metadata": {
        "colab_type": "text",
        "id": "l2vhfbMzcvuf"
      },
      "source": [
        "### System of linear equations"
      ]
    },
    {
      "cell_type": "code",
      "metadata": {
        "colab_type": "code",
        "id": "eCledrclchIK",
        "colab": {}
      },
      "source": [
        "a = np.array([[3, 1], [1, 2]])\n",
        "b = np.array([9, 8])\n",
        "x = np.linalg.solve(a, b)\n"
      ],
      "execution_count": null,
      "outputs": []
    },
    {
      "cell_type": "code",
      "metadata": {
        "colab_type": "code",
        "id": "hXotSum6dMBe",
        "colab": {}
      },
      "source": [
        "print('Matrix a:\\n', a)\n",
        "print('Matrix b:\\n', b)\n",
        "print('Solution:\\n', x)"
      ],
      "execution_count": null,
      "outputs": []
    },
    {
      "cell_type": "markdown",
      "metadata": {
        "colab_type": "text",
        "id": "sq6-S8OBdeuf"
      },
      "source": [
        "### Invertible matrix"
      ]
    },
    {
      "cell_type": "code",
      "metadata": {
        "colab_type": "code",
        "id": "egrVtkSIdYBR",
        "colab": {}
      },
      "source": [
        "a = np.array([[1, 2, 1], [1, 1, 4], [2, 3, 6]], dtype=np.float32)\n",
        "b = np.linalg.inv(a)"
      ],
      "execution_count": null,
      "outputs": []
    },
    {
      "cell_type": "code",
      "metadata": {
        "colab_type": "code",
        "id": "2b8obiJad3e8",
        "colab": {}
      },
      "source": [
        "print('Matrix a:\\n', a)\n",
        "print('Invertible matrix b:\\n', b)\n",
        "print('Identity matrix:\\n', a.dot(b))"
      ],
      "execution_count": null,
      "outputs": []
    },
    {
      "cell_type": "markdown",
      "metadata": {
        "colab_type": "text",
        "id": "nbQYCf8MfHPc"
      },
      "source": [
        "# Pandas"
      ]
    },
    {
      "cell_type": "markdown",
      "metadata": {
        "colab_type": "text",
        "id": "lLJXvxOYfleX"
      },
      "source": [
        "## Basics"
      ]
    },
    {
      "cell_type": "code",
      "metadata": {
        "colab_type": "code",
        "id": "tzhflgCVeb9h",
        "colab": {}
      },
      "source": [
        "import pandas as pd"
      ],
      "execution_count": null,
      "outputs": []
    },
    {
      "cell_type": "code",
      "metadata": {
        "id": "EhyqiSfvvSjD",
        "colab_type": "code",
        "colab": {}
      },
      "source": [
        "from google.colab import drive\n",
        "drive.mount('/content/drive/')"
      ],
      "execution_count": null,
      "outputs": []
    },
    {
      "cell_type": "code",
      "metadata": {
        "colab_type": "code",
        "id": "EQ4digCYfoNh",
        "colab": {}
      },
      "source": [
        "# read csv file\n",
        "\n",
        "df = pd.read_csv('/content/drive/My Drive/Colab Notebooks/lab1/RegularSeasonCompactResults.csv')"
      ],
      "execution_count": null,
      "outputs": []
    },
    {
      "cell_type": "code",
      "metadata": {
        "id": "WSSZph86MJNb",
        "colab_type": "code",
        "colab": {}
      },
      "source": [
        "df"
      ],
      "execution_count": null,
      "outputs": []
    },
    {
      "cell_type": "code",
      "metadata": {
        "colab_type": "code",
        "id": "rEgrguWgfpyZ",
        "colab": {}
      },
      "source": [
        "# see the first 5 rows \n",
        "df.head(3)"
      ],
      "execution_count": null,
      "outputs": []
    },
    {
      "cell_type": "code",
      "metadata": {
        "colab_type": "code",
        "id": "-6kA5BLYg45S",
        "colab": {}
      },
      "source": [
        "# see the last 5 rows \n",
        "df.tail(5)"
      ],
      "execution_count": null,
      "outputs": []
    },
    {
      "cell_type": "code",
      "metadata": {
        "colab_type": "code",
        "id": "76IPEFdihHvf",
        "colab": {
          "base_uri": "https://localhost:8080/",
          "height": 35
        },
        "outputId": "d3936869-ae5c-411c-9d0a-3e28808bb1a1"
      },
      "source": [
        "# see the dimensions of the dataframe \n",
        "df.shape"
      ],
      "execution_count": null,
      "outputs": [
        {
          "output_type": "execute_result",
          "data": {
            "text/plain": [
              "(145289, 8)"
            ]
          },
          "metadata": {
            "tags": []
          },
          "execution_count": 14
        }
      ]
    },
    {
      "cell_type": "code",
      "metadata": {
        "colab_type": "code",
        "id": "lOqlB3-3hOFz",
        "colab": {
          "base_uri": "https://localhost:8080/",
          "height": 35
        },
        "outputId": "c8eaf88c-ed07-47b4-8a1c-da2644819799"
      },
      "source": [
        "# extract all the column names as a list\n",
        "df.columns.tolist()"
      ],
      "execution_count": null,
      "outputs": [
        {
          "output_type": "execute_result",
          "data": {
            "text/plain": [
              "['Season', 'Daynum', 'Wteam', 'Wscore', 'Lteam', 'Lscore', 'Wloc', 'Numot']"
            ]
          },
          "metadata": {
            "tags": []
          },
          "execution_count": 15
        }
      ]
    },
    {
      "cell_type": "code",
      "metadata": {
        "colab_type": "code",
        "id": "emF_dnbXhXrm",
        "colab": {
          "base_uri": "https://localhost:8080/",
          "height": 294
        },
        "outputId": "ce231d3d-0891-473b-9160-dc05b01b1277"
      },
      "source": [
        "# see statistics like mean, min, etc about each column of the dataset\n",
        "df.describe()"
      ],
      "execution_count": null,
      "outputs": [
        {
          "output_type": "execute_result",
          "data": {
            "text/html": [
              "<div>\n",
              "<style scoped>\n",
              "    .dataframe tbody tr th:only-of-type {\n",
              "        vertical-align: middle;\n",
              "    }\n",
              "\n",
              "    .dataframe tbody tr th {\n",
              "        vertical-align: top;\n",
              "    }\n",
              "\n",
              "    .dataframe thead th {\n",
              "        text-align: right;\n",
              "    }\n",
              "</style>\n",
              "<table border=\"1\" class=\"dataframe\">\n",
              "  <thead>\n",
              "    <tr style=\"text-align: right;\">\n",
              "      <th></th>\n",
              "      <th>Season</th>\n",
              "      <th>Daynum</th>\n",
              "      <th>Wteam</th>\n",
              "      <th>Wscore</th>\n",
              "      <th>Lteam</th>\n",
              "      <th>Lscore</th>\n",
              "      <th>Numot</th>\n",
              "    </tr>\n",
              "  </thead>\n",
              "  <tbody>\n",
              "    <tr>\n",
              "      <th>count</th>\n",
              "      <td>145289.000000</td>\n",
              "      <td>145289.000000</td>\n",
              "      <td>145289.000000</td>\n",
              "      <td>145289.000000</td>\n",
              "      <td>145289.000000</td>\n",
              "      <td>145289.000000</td>\n",
              "      <td>145289.000000</td>\n",
              "    </tr>\n",
              "    <tr>\n",
              "      <th>mean</th>\n",
              "      <td>2001.574834</td>\n",
              "      <td>75.223816</td>\n",
              "      <td>1286.720646</td>\n",
              "      <td>76.600321</td>\n",
              "      <td>1282.864064</td>\n",
              "      <td>64.497009</td>\n",
              "      <td>0.044387</td>\n",
              "    </tr>\n",
              "    <tr>\n",
              "      <th>std</th>\n",
              "      <td>9.233342</td>\n",
              "      <td>33.287418</td>\n",
              "      <td>104.570275</td>\n",
              "      <td>12.173033</td>\n",
              "      <td>104.829234</td>\n",
              "      <td>11.380625</td>\n",
              "      <td>0.247819</td>\n",
              "    </tr>\n",
              "    <tr>\n",
              "      <th>min</th>\n",
              "      <td>1985.000000</td>\n",
              "      <td>0.000000</td>\n",
              "      <td>1101.000000</td>\n",
              "      <td>34.000000</td>\n",
              "      <td>1101.000000</td>\n",
              "      <td>20.000000</td>\n",
              "      <td>0.000000</td>\n",
              "    </tr>\n",
              "    <tr>\n",
              "      <th>25%</th>\n",
              "      <td>1994.000000</td>\n",
              "      <td>47.000000</td>\n",
              "      <td>1198.000000</td>\n",
              "      <td>68.000000</td>\n",
              "      <td>1191.000000</td>\n",
              "      <td>57.000000</td>\n",
              "      <td>0.000000</td>\n",
              "    </tr>\n",
              "    <tr>\n",
              "      <th>50%</th>\n",
              "      <td>2002.000000</td>\n",
              "      <td>78.000000</td>\n",
              "      <td>1284.000000</td>\n",
              "      <td>76.000000</td>\n",
              "      <td>1280.000000</td>\n",
              "      <td>64.000000</td>\n",
              "      <td>0.000000</td>\n",
              "    </tr>\n",
              "    <tr>\n",
              "      <th>75%</th>\n",
              "      <td>2010.000000</td>\n",
              "      <td>103.000000</td>\n",
              "      <td>1379.000000</td>\n",
              "      <td>84.000000</td>\n",
              "      <td>1375.000000</td>\n",
              "      <td>72.000000</td>\n",
              "      <td>0.000000</td>\n",
              "    </tr>\n",
              "    <tr>\n",
              "      <th>max</th>\n",
              "      <td>2016.000000</td>\n",
              "      <td>132.000000</td>\n",
              "      <td>1464.000000</td>\n",
              "      <td>186.000000</td>\n",
              "      <td>1464.000000</td>\n",
              "      <td>150.000000</td>\n",
              "      <td>6.000000</td>\n",
              "    </tr>\n",
              "  </tbody>\n",
              "</table>\n",
              "</div>"
            ],
            "text/plain": [
              "              Season         Daynum  ...         Lscore          Numot\n",
              "count  145289.000000  145289.000000  ...  145289.000000  145289.000000\n",
              "mean     2001.574834      75.223816  ...      64.497009       0.044387\n",
              "std         9.233342      33.287418  ...      11.380625       0.247819\n",
              "min      1985.000000       0.000000  ...      20.000000       0.000000\n",
              "25%      1994.000000      47.000000  ...      57.000000       0.000000\n",
              "50%      2002.000000      78.000000  ...      64.000000       0.000000\n",
              "75%      2010.000000     103.000000  ...      72.000000       0.000000\n",
              "max      2016.000000     132.000000  ...     150.000000       6.000000\n",
              "\n",
              "[8 rows x 7 columns]"
            ]
          },
          "metadata": {
            "tags": []
          },
          "execution_count": 16
        }
      ]
    },
    {
      "cell_type": "code",
      "metadata": {
        "colab_type": "code",
        "id": "_9P8taY_hg9K",
        "colab": {
          "base_uri": "https://localhost:8080/",
          "height": 156
        },
        "outputId": "d8eb58f1-1281-49a6-e581-31b442a1bf59"
      },
      "source": [
        "# get the maximum values of all columns\n",
        "df.median()"
      ],
      "execution_count": null,
      "outputs": [
        {
          "output_type": "execute_result",
          "data": {
            "text/plain": [
              "Season    2002.0\n",
              "Daynum      78.0\n",
              "Wteam     1284.0\n",
              "Wscore      76.0\n",
              "Lteam     1280.0\n",
              "Lscore      64.0\n",
              "Numot        0.0\n",
              "dtype: float64"
            ]
          },
          "metadata": {
            "tags": []
          },
          "execution_count": 19
        }
      ]
    },
    {
      "cell_type": "code",
      "metadata": {
        "colab_type": "code",
        "id": "utTenVUeh6h8",
        "colab": {
          "base_uri": "https://localhost:8080/",
          "height": 35
        },
        "outputId": "b3208af8-9617-4866-b935-675c94a284aa"
      },
      "source": [
        "# get the max value for a particular column\n",
        "df['Wscore'].max() # or mean(), median(), min(), argmax()"
      ],
      "execution_count": null,
      "outputs": [
        {
          "output_type": "execute_result",
          "data": {
            "text/plain": [
              "186"
            ]
          },
          "metadata": {
            "tags": []
          },
          "execution_count": 21
        }
      ]
    },
    {
      "cell_type": "code",
      "metadata": {
        "colab_type": "code",
        "id": "vTGjDnetiDzG",
        "colab": {
          "base_uri": "https://localhost:8080/",
          "height": 69
        },
        "outputId": "e51a3da3-304c-4413-b1a1-bfc43dfd3a78"
      },
      "source": [
        "# get frequency of each item in the column\n",
        "print(len(df['Wscore'].unique()))\n",
        "print(len(df['Wteam'].unique()))\n",
        "print(len(df['Season'].unique()))"
      ],
      "execution_count": null,
      "outputs": [
        {
          "output_type": "stream",
          "text": [
            "130\n",
            "364\n",
            "32\n"
          ],
          "name": "stdout"
        }
      ]
    },
    {
      "cell_type": "markdown",
      "metadata": {
        "colab_type": "text",
        "id": "54eehlbAi0L-"
      },
      "source": [
        "## Sorting Values"
      ]
    },
    {
      "cell_type": "code",
      "metadata": {
        "colab_type": "code",
        "id": "ubsnomqXiPnS",
        "colab": {
          "base_uri": "https://localhost:8080/",
          "height": 202
        },
        "outputId": "3c5dbcf9-7ced-4cf9-99f3-fa2bf0f69bf0"
      },
      "source": [
        "# sorting the dataframe in increasing order for the scores of the losing team\n",
        "df.sort_values('Lscore', ascending=False).head()"
      ],
      "execution_count": null,
      "outputs": [
        {
          "output_type": "execute_result",
          "data": {
            "text/html": [
              "<div>\n",
              "<style scoped>\n",
              "    .dataframe tbody tr th:only-of-type {\n",
              "        vertical-align: middle;\n",
              "    }\n",
              "\n",
              "    .dataframe tbody tr th {\n",
              "        vertical-align: top;\n",
              "    }\n",
              "\n",
              "    .dataframe thead th {\n",
              "        text-align: right;\n",
              "    }\n",
              "</style>\n",
              "<table border=\"1\" class=\"dataframe\">\n",
              "  <thead>\n",
              "    <tr style=\"text-align: right;\">\n",
              "      <th></th>\n",
              "      <th>Season</th>\n",
              "      <th>Daynum</th>\n",
              "      <th>Wteam</th>\n",
              "      <th>Wscore</th>\n",
              "      <th>Lteam</th>\n",
              "      <th>Lscore</th>\n",
              "      <th>Wloc</th>\n",
              "      <th>Numot</th>\n",
              "    </tr>\n",
              "  </thead>\n",
              "  <tbody>\n",
              "    <tr>\n",
              "      <th>17867</th>\n",
              "      <td>1989</td>\n",
              "      <td>92</td>\n",
              "      <td>1258</td>\n",
              "      <td>181</td>\n",
              "      <td>1109</td>\n",
              "      <td>150</td>\n",
              "      <td>H</td>\n",
              "      <td>0</td>\n",
              "    </tr>\n",
              "    <tr>\n",
              "      <th>16853</th>\n",
              "      <td>1989</td>\n",
              "      <td>68</td>\n",
              "      <td>1258</td>\n",
              "      <td>162</td>\n",
              "      <td>1109</td>\n",
              "      <td>144</td>\n",
              "      <td>A</td>\n",
              "      <td>0</td>\n",
              "    </tr>\n",
              "    <tr>\n",
              "      <th>22074</th>\n",
              "      <td>1990</td>\n",
              "      <td>96</td>\n",
              "      <td>1261</td>\n",
              "      <td>148</td>\n",
              "      <td>1258</td>\n",
              "      <td>141</td>\n",
              "      <td>H</td>\n",
              "      <td>0</td>\n",
              "    </tr>\n",
              "    <tr>\n",
              "      <th>24970</th>\n",
              "      <td>1991</td>\n",
              "      <td>68</td>\n",
              "      <td>1258</td>\n",
              "      <td>186</td>\n",
              "      <td>1109</td>\n",
              "      <td>140</td>\n",
              "      <td>H</td>\n",
              "      <td>0</td>\n",
              "    </tr>\n",
              "    <tr>\n",
              "      <th>1126</th>\n",
              "      <td>1985</td>\n",
              "      <td>65</td>\n",
              "      <td>1424</td>\n",
              "      <td>142</td>\n",
              "      <td>1429</td>\n",
              "      <td>140</td>\n",
              "      <td>A</td>\n",
              "      <td>0</td>\n",
              "    </tr>\n",
              "  </tbody>\n",
              "</table>\n",
              "</div>"
            ],
            "text/plain": [
              "       Season  Daynum  Wteam  Wscore  Lteam  Lscore Wloc  Numot\n",
              "17867    1989      92   1258     181   1109     150    H      0\n",
              "16853    1989      68   1258     162   1109     144    A      0\n",
              "22074    1990      96   1261     148   1258     141    H      0\n",
              "24970    1991      68   1258     186   1109     140    H      0\n",
              "1126     1985      65   1424     142   1429     140    A      0"
            ]
          },
          "metadata": {
            "tags": []
          },
          "execution_count": 24
        }
      ]
    },
    {
      "cell_type": "markdown",
      "metadata": {
        "colab_type": "text",
        "id": "yjy1ip8rkHat"
      },
      "source": [
        "## Filtering Rows"
      ]
    },
    {
      "cell_type": "code",
      "metadata": {
        "colab_type": "code",
        "id": "tQXvNrdti-j7",
        "colab": {
          "base_uri": "https://localhost:8080/",
          "height": 355
        },
        "outputId": "f7291701-b3fb-4819-9a7e-025f6089de05"
      },
      "source": [
        "# find which entries are above 150\n",
        "df[df['Wscore'] > 150].head(10)"
      ],
      "execution_count": null,
      "outputs": [
        {
          "output_type": "execute_result",
          "data": {
            "text/html": [
              "<div>\n",
              "<style scoped>\n",
              "    .dataframe tbody tr th:only-of-type {\n",
              "        vertical-align: middle;\n",
              "    }\n",
              "\n",
              "    .dataframe tbody tr th {\n",
              "        vertical-align: top;\n",
              "    }\n",
              "\n",
              "    .dataframe thead th {\n",
              "        text-align: right;\n",
              "    }\n",
              "</style>\n",
              "<table border=\"1\" class=\"dataframe\">\n",
              "  <thead>\n",
              "    <tr style=\"text-align: right;\">\n",
              "      <th></th>\n",
              "      <th>Season</th>\n",
              "      <th>Daynum</th>\n",
              "      <th>Wteam</th>\n",
              "      <th>Wscore</th>\n",
              "      <th>Lteam</th>\n",
              "      <th>Lscore</th>\n",
              "      <th>Wloc</th>\n",
              "      <th>Numot</th>\n",
              "    </tr>\n",
              "  </thead>\n",
              "  <tbody>\n",
              "    <tr>\n",
              "      <th>5269</th>\n",
              "      <td>1986</td>\n",
              "      <td>75</td>\n",
              "      <td>1258</td>\n",
              "      <td>151</td>\n",
              "      <td>1109</td>\n",
              "      <td>107</td>\n",
              "      <td>H</td>\n",
              "      <td>0</td>\n",
              "    </tr>\n",
              "    <tr>\n",
              "      <th>12046</th>\n",
              "      <td>1988</td>\n",
              "      <td>40</td>\n",
              "      <td>1328</td>\n",
              "      <td>152</td>\n",
              "      <td>1147</td>\n",
              "      <td>84</td>\n",
              "      <td>H</td>\n",
              "      <td>0</td>\n",
              "    </tr>\n",
              "    <tr>\n",
              "      <th>12355</th>\n",
              "      <td>1988</td>\n",
              "      <td>52</td>\n",
              "      <td>1328</td>\n",
              "      <td>151</td>\n",
              "      <td>1173</td>\n",
              "      <td>99</td>\n",
              "      <td>N</td>\n",
              "      <td>0</td>\n",
              "    </tr>\n",
              "    <tr>\n",
              "      <th>16040</th>\n",
              "      <td>1989</td>\n",
              "      <td>40</td>\n",
              "      <td>1328</td>\n",
              "      <td>152</td>\n",
              "      <td>1331</td>\n",
              "      <td>122</td>\n",
              "      <td>H</td>\n",
              "      <td>0</td>\n",
              "    </tr>\n",
              "    <tr>\n",
              "      <th>16853</th>\n",
              "      <td>1989</td>\n",
              "      <td>68</td>\n",
              "      <td>1258</td>\n",
              "      <td>162</td>\n",
              "      <td>1109</td>\n",
              "      <td>144</td>\n",
              "      <td>A</td>\n",
              "      <td>0</td>\n",
              "    </tr>\n",
              "    <tr>\n",
              "      <th>17867</th>\n",
              "      <td>1989</td>\n",
              "      <td>92</td>\n",
              "      <td>1258</td>\n",
              "      <td>181</td>\n",
              "      <td>1109</td>\n",
              "      <td>150</td>\n",
              "      <td>H</td>\n",
              "      <td>0</td>\n",
              "    </tr>\n",
              "    <tr>\n",
              "      <th>19653</th>\n",
              "      <td>1990</td>\n",
              "      <td>30</td>\n",
              "      <td>1328</td>\n",
              "      <td>173</td>\n",
              "      <td>1109</td>\n",
              "      <td>101</td>\n",
              "      <td>H</td>\n",
              "      <td>0</td>\n",
              "    </tr>\n",
              "    <tr>\n",
              "      <th>19971</th>\n",
              "      <td>1990</td>\n",
              "      <td>38</td>\n",
              "      <td>1258</td>\n",
              "      <td>152</td>\n",
              "      <td>1109</td>\n",
              "      <td>137</td>\n",
              "      <td>A</td>\n",
              "      <td>0</td>\n",
              "    </tr>\n",
              "    <tr>\n",
              "      <th>20022</th>\n",
              "      <td>1990</td>\n",
              "      <td>40</td>\n",
              "      <td>1116</td>\n",
              "      <td>166</td>\n",
              "      <td>1109</td>\n",
              "      <td>101</td>\n",
              "      <td>H</td>\n",
              "      <td>0</td>\n",
              "    </tr>\n",
              "    <tr>\n",
              "      <th>22145</th>\n",
              "      <td>1990</td>\n",
              "      <td>97</td>\n",
              "      <td>1258</td>\n",
              "      <td>157</td>\n",
              "      <td>1362</td>\n",
              "      <td>115</td>\n",
              "      <td>H</td>\n",
              "      <td>0</td>\n",
              "    </tr>\n",
              "  </tbody>\n",
              "</table>\n",
              "</div>"
            ],
            "text/plain": [
              "       Season  Daynum  Wteam  Wscore  Lteam  Lscore Wloc  Numot\n",
              "5269     1986      75   1258     151   1109     107    H      0\n",
              "12046    1988      40   1328     152   1147      84    H      0\n",
              "12355    1988      52   1328     151   1173      99    N      0\n",
              "16040    1989      40   1328     152   1331     122    H      0\n",
              "16853    1989      68   1258     162   1109     144    A      0\n",
              "17867    1989      92   1258     181   1109     150    H      0\n",
              "19653    1990      30   1328     173   1109     101    H      0\n",
              "19971    1990      38   1258     152   1109     137    A      0\n",
              "20022    1990      40   1116     166   1109     101    H      0\n",
              "22145    1990      97   1258     157   1362     115    H      0"
            ]
          },
          "metadata": {
            "tags": []
          },
          "execution_count": 26
        }
      ]
    },
    {
      "cell_type": "code",
      "metadata": {
        "colab_type": "code",
        "id": "x7yU-pjKi-mp",
        "colab": {
          "base_uri": "https://localhost:8080/",
          "height": 141
        },
        "outputId": "c4e6fdb4-3147-4cca-f6f0-03fb8a6fe519"
      },
      "source": [
        "# find out when the winning team scores more than 150 points and \n",
        "# when the losing team scores below 100.\n",
        "df2 = df[(df['Wscore'] > 150) & (df['Lscore'] < 90)]\n",
        "df2"
      ],
      "execution_count": null,
      "outputs": [
        {
          "output_type": "execute_result",
          "data": {
            "text/html": [
              "<div>\n",
              "<style scoped>\n",
              "    .dataframe tbody tr th:only-of-type {\n",
              "        vertical-align: middle;\n",
              "    }\n",
              "\n",
              "    .dataframe tbody tr th {\n",
              "        vertical-align: top;\n",
              "    }\n",
              "\n",
              "    .dataframe thead th {\n",
              "        text-align: right;\n",
              "    }\n",
              "</style>\n",
              "<table border=\"1\" class=\"dataframe\">\n",
              "  <thead>\n",
              "    <tr style=\"text-align: right;\">\n",
              "      <th></th>\n",
              "      <th>Season</th>\n",
              "      <th>Daynum</th>\n",
              "      <th>Wteam</th>\n",
              "      <th>Wscore</th>\n",
              "      <th>Lteam</th>\n",
              "      <th>Lscore</th>\n",
              "      <th>Wloc</th>\n",
              "      <th>Numot</th>\n",
              "    </tr>\n",
              "  </thead>\n",
              "  <tbody>\n",
              "    <tr>\n",
              "      <th>12046</th>\n",
              "      <td>1988</td>\n",
              "      <td>40</td>\n",
              "      <td>1328</td>\n",
              "      <td>152</td>\n",
              "      <td>1147</td>\n",
              "      <td>84</td>\n",
              "      <td>H</td>\n",
              "      <td>0</td>\n",
              "    </tr>\n",
              "    <tr>\n",
              "      <th>28687</th>\n",
              "      <td>1992</td>\n",
              "      <td>54</td>\n",
              "      <td>1261</td>\n",
              "      <td>159</td>\n",
              "      <td>1319</td>\n",
              "      <td>86</td>\n",
              "      <td>H</td>\n",
              "      <td>0</td>\n",
              "    </tr>\n",
              "    <tr>\n",
              "      <th>52600</th>\n",
              "      <td>1998</td>\n",
              "      <td>33</td>\n",
              "      <td>1395</td>\n",
              "      <td>153</td>\n",
              "      <td>1410</td>\n",
              "      <td>87</td>\n",
              "      <td>H</td>\n",
              "      <td>0</td>\n",
              "    </tr>\n",
              "  </tbody>\n",
              "</table>\n",
              "</div>"
            ],
            "text/plain": [
              "       Season  Daynum  Wteam  Wscore  Lteam  Lscore Wloc  Numot\n",
              "12046    1988      40   1328     152   1147      84    H      0\n",
              "28687    1992      54   1261     159   1319      86    H      0\n",
              "52600    1998      33   1395     153   1410      87    H      0"
            ]
          },
          "metadata": {
            "tags": []
          },
          "execution_count": 28
        }
      ]
    },
    {
      "cell_type": "markdown",
      "metadata": {
        "colab_type": "text",
        "id": "RYaBE8w9kfO8"
      },
      "source": [
        "## Grouping"
      ]
    },
    {
      "cell_type": "code",
      "metadata": {
        "id": "yqx5AW6ziFdk",
        "colab_type": "code",
        "colab": {}
      },
      "source": [
        "df2.to_excel(\"df2.csv\")"
      ],
      "execution_count": null,
      "outputs": []
    },
    {
      "cell_type": "code",
      "metadata": {
        "colab_type": "code",
        "id": "ABCOtdqri-ua",
        "colab": {
          "base_uri": "https://localhost:8080/",
          "height": 139
        },
        "outputId": "7aeaff98-0752-4918-91af-156b4505be84"
      },
      "source": [
        "# get the mean Wscore of each Wteam\n",
        "df.groupby('Wteam')['Wscore'].mean().head()"
      ],
      "execution_count": null,
      "outputs": [
        {
          "output_type": "execute_result",
          "data": {
            "text/plain": [
              "Wteam\n",
              "1101    78.111111\n",
              "1102    69.893204\n",
              "1103    75.839768\n",
              "1104    75.825944\n",
              "1105    74.960894\n",
              "Name: Wscore, dtype: float64"
            ]
          },
          "metadata": {
            "tags": []
          },
          "execution_count": 29
        }
      ]
    },
    {
      "cell_type": "code",
      "metadata": {
        "colab_type": "code",
        "id": "TjQfMuRRkmN5",
        "colab": {
          "base_uri": "https://localhost:8080/",
          "height": 208
        },
        "outputId": "998e7cbc-bd32-42c0-86f6-c8f6e8acb653"
      },
      "source": [
        "# finds where how many times that specific team won at home, on the road, or at a neutral site\n",
        "df.groupby('Wteam')['Wloc'].value_counts().head(9)"
      ],
      "execution_count": null,
      "outputs": [
        {
          "output_type": "execute_result",
          "data": {
            "text/plain": [
              "Wteam  Wloc\n",
              "1101   H        12\n",
              "       A         3\n",
              "       N         3\n",
              "1102   H       204\n",
              "       A        73\n",
              "       N        32\n",
              "1103   H       324\n",
              "       A       153\n",
              "       N        41\n",
              "Name: Wloc, dtype: int64"
            ]
          },
          "metadata": {
            "tags": []
          },
          "execution_count": 30
        }
      ]
    },
    {
      "cell_type": "markdown",
      "metadata": {
        "colab_type": "text",
        "id": "s_OR6UrEl3ko"
      },
      "source": [
        "## Extracting rows and columns"
      ]
    },
    {
      "cell_type": "code",
      "metadata": {
        "colab_type": "code",
        "id": "1WbkJsAel8zg",
        "colab": {}
      },
      "source": [
        "df2 = df[['Wscore', 'Lscore']].head()"
      ],
      "execution_count": null,
      "outputs": []
    },
    {
      "cell_type": "code",
      "metadata": {
        "id": "RrvLYHqFP7a4",
        "colab_type": "code",
        "colab": {
          "base_uri": "https://localhost:8080/",
          "height": 202
        },
        "outputId": "a490f69a-0c84-48b1-bcbc-52c51078c1ef"
      },
      "source": [
        "df2"
      ],
      "execution_count": null,
      "outputs": [
        {
          "output_type": "execute_result",
          "data": {
            "text/html": [
              "<div>\n",
              "<style scoped>\n",
              "    .dataframe tbody tr th:only-of-type {\n",
              "        vertical-align: middle;\n",
              "    }\n",
              "\n",
              "    .dataframe tbody tr th {\n",
              "        vertical-align: top;\n",
              "    }\n",
              "\n",
              "    .dataframe thead th {\n",
              "        text-align: right;\n",
              "    }\n",
              "</style>\n",
              "<table border=\"1\" class=\"dataframe\">\n",
              "  <thead>\n",
              "    <tr style=\"text-align: right;\">\n",
              "      <th></th>\n",
              "      <th>Wscore</th>\n",
              "      <th>Lscore</th>\n",
              "    </tr>\n",
              "  </thead>\n",
              "  <tbody>\n",
              "    <tr>\n",
              "      <th>0</th>\n",
              "      <td>81</td>\n",
              "      <td>64</td>\n",
              "    </tr>\n",
              "    <tr>\n",
              "      <th>1</th>\n",
              "      <td>77</td>\n",
              "      <td>70</td>\n",
              "    </tr>\n",
              "    <tr>\n",
              "      <th>2</th>\n",
              "      <td>63</td>\n",
              "      <td>56</td>\n",
              "    </tr>\n",
              "    <tr>\n",
              "      <th>3</th>\n",
              "      <td>70</td>\n",
              "      <td>54</td>\n",
              "    </tr>\n",
              "    <tr>\n",
              "      <th>4</th>\n",
              "      <td>86</td>\n",
              "      <td>74</td>\n",
              "    </tr>\n",
              "  </tbody>\n",
              "</table>\n",
              "</div>"
            ],
            "text/plain": [
              "   Wscore  Lscore\n",
              "0      81      64\n",
              "1      77      70\n",
              "2      63      56\n",
              "3      70      54\n",
              "4      86      74"
            ]
          },
          "metadata": {
            "tags": []
          },
          "execution_count": 32
        }
      ]
    },
    {
      "cell_type": "code",
      "metadata": {
        "colab_type": "code",
        "id": "1rlznmyrk7bK",
        "colab": {
          "base_uri": "https://localhost:8080/",
          "height": 386
        },
        "outputId": "27d331f2-69e0-41f1-eb0e-4ef79549a3b5"
      },
      "source": [
        "df.loc[:10, ['Wscore', 'Lscore']]"
      ],
      "execution_count": null,
      "outputs": [
        {
          "output_type": "execute_result",
          "data": {
            "text/html": [
              "<div>\n",
              "<style scoped>\n",
              "    .dataframe tbody tr th:only-of-type {\n",
              "        vertical-align: middle;\n",
              "    }\n",
              "\n",
              "    .dataframe tbody tr th {\n",
              "        vertical-align: top;\n",
              "    }\n",
              "\n",
              "    .dataframe thead th {\n",
              "        text-align: right;\n",
              "    }\n",
              "</style>\n",
              "<table border=\"1\" class=\"dataframe\">\n",
              "  <thead>\n",
              "    <tr style=\"text-align: right;\">\n",
              "      <th></th>\n",
              "      <th>Wscore</th>\n",
              "      <th>Lscore</th>\n",
              "    </tr>\n",
              "  </thead>\n",
              "  <tbody>\n",
              "    <tr>\n",
              "      <th>0</th>\n",
              "      <td>81</td>\n",
              "      <td>64</td>\n",
              "    </tr>\n",
              "    <tr>\n",
              "      <th>1</th>\n",
              "      <td>77</td>\n",
              "      <td>70</td>\n",
              "    </tr>\n",
              "    <tr>\n",
              "      <th>2</th>\n",
              "      <td>63</td>\n",
              "      <td>56</td>\n",
              "    </tr>\n",
              "    <tr>\n",
              "      <th>3</th>\n",
              "      <td>70</td>\n",
              "      <td>54</td>\n",
              "    </tr>\n",
              "    <tr>\n",
              "      <th>4</th>\n",
              "      <td>86</td>\n",
              "      <td>74</td>\n",
              "    </tr>\n",
              "    <tr>\n",
              "      <th>5</th>\n",
              "      <td>79</td>\n",
              "      <td>78</td>\n",
              "    </tr>\n",
              "    <tr>\n",
              "      <th>6</th>\n",
              "      <td>64</td>\n",
              "      <td>44</td>\n",
              "    </tr>\n",
              "    <tr>\n",
              "      <th>7</th>\n",
              "      <td>58</td>\n",
              "      <td>56</td>\n",
              "    </tr>\n",
              "    <tr>\n",
              "      <th>8</th>\n",
              "      <td>98</td>\n",
              "      <td>80</td>\n",
              "    </tr>\n",
              "    <tr>\n",
              "      <th>9</th>\n",
              "      <td>97</td>\n",
              "      <td>89</td>\n",
              "    </tr>\n",
              "    <tr>\n",
              "      <th>10</th>\n",
              "      <td>103</td>\n",
              "      <td>71</td>\n",
              "    </tr>\n",
              "  </tbody>\n",
              "</table>\n",
              "</div>"
            ],
            "text/plain": [
              "    Wscore  Lscore\n",
              "0       81      64\n",
              "1       77      70\n",
              "2       63      56\n",
              "3       70      54\n",
              "4       86      74\n",
              "5       79      78\n",
              "6       64      44\n",
              "7       58      56\n",
              "8       98      80\n",
              "9       97      89\n",
              "10     103      71"
            ]
          },
          "metadata": {
            "tags": []
          },
          "execution_count": 34
        }
      ]
    },
    {
      "cell_type": "code",
      "metadata": {
        "id": "XbG3SEGvP6UK",
        "colab_type": "code",
        "colab": {}
      },
      "source": [
        ""
      ],
      "execution_count": null,
      "outputs": []
    },
    {
      "cell_type": "code",
      "metadata": {
        "colab_type": "code",
        "id": "G4cvToVqmAGV",
        "colab": {}
      },
      "source": [
        "df[0:3]"
      ],
      "execution_count": null,
      "outputs": []
    },
    {
      "cell_type": "code",
      "metadata": {
        "colab_type": "code",
        "id": "jcHukWkqmD6_",
        "colab": {
          "base_uri": "https://localhost:8080/",
          "height": 662
        },
        "outputId": "c2b28148-0272-461b-ea3e-26c69ff8bb6c"
      },
      "source": [
        "df.iloc[100:120,3:6]\n"
      ],
      "execution_count": null,
      "outputs": [
        {
          "output_type": "execute_result",
          "data": {
            "text/html": [
              "<div>\n",
              "<style scoped>\n",
              "    .dataframe tbody tr th:only-of-type {\n",
              "        vertical-align: middle;\n",
              "    }\n",
              "\n",
              "    .dataframe tbody tr th {\n",
              "        vertical-align: top;\n",
              "    }\n",
              "\n",
              "    .dataframe thead th {\n",
              "        text-align: right;\n",
              "    }\n",
              "</style>\n",
              "<table border=\"1\" class=\"dataframe\">\n",
              "  <thead>\n",
              "    <tr style=\"text-align: right;\">\n",
              "      <th></th>\n",
              "      <th>Wscore</th>\n",
              "      <th>Lteam</th>\n",
              "      <th>Lscore</th>\n",
              "    </tr>\n",
              "  </thead>\n",
              "  <tbody>\n",
              "    <tr>\n",
              "      <th>100</th>\n",
              "      <td>86</td>\n",
              "      <td>1331</td>\n",
              "      <td>82</td>\n",
              "    </tr>\n",
              "    <tr>\n",
              "      <th>101</th>\n",
              "      <td>90</td>\n",
              "      <td>1434</td>\n",
              "      <td>57</td>\n",
              "    </tr>\n",
              "    <tr>\n",
              "      <th>102</th>\n",
              "      <td>89</td>\n",
              "      <td>1365</td>\n",
              "      <td>61</td>\n",
              "    </tr>\n",
              "    <tr>\n",
              "      <th>103</th>\n",
              "      <td>78</td>\n",
              "      <td>1442</td>\n",
              "      <td>67</td>\n",
              "    </tr>\n",
              "    <tr>\n",
              "      <th>104</th>\n",
              "      <td>78</td>\n",
              "      <td>1149</td>\n",
              "      <td>61</td>\n",
              "    </tr>\n",
              "    <tr>\n",
              "      <th>105</th>\n",
              "      <td>92</td>\n",
              "      <td>1456</td>\n",
              "      <td>60</td>\n",
              "    </tr>\n",
              "    <tr>\n",
              "      <th>106</th>\n",
              "      <td>81</td>\n",
              "      <td>1152</td>\n",
              "      <td>63</td>\n",
              "    </tr>\n",
              "    <tr>\n",
              "      <th>107</th>\n",
              "      <td>93</td>\n",
              "      <td>1227</td>\n",
              "      <td>62</td>\n",
              "    </tr>\n",
              "    <tr>\n",
              "      <th>108</th>\n",
              "      <td>89</td>\n",
              "      <td>1287</td>\n",
              "      <td>46</td>\n",
              "    </tr>\n",
              "    <tr>\n",
              "      <th>109</th>\n",
              "      <td>81</td>\n",
              "      <td>1406</td>\n",
              "      <td>73</td>\n",
              "    </tr>\n",
              "    <tr>\n",
              "      <th>110</th>\n",
              "      <td>102</td>\n",
              "      <td>1260</td>\n",
              "      <td>96</td>\n",
              "    </tr>\n",
              "    <tr>\n",
              "      <th>111</th>\n",
              "      <td>79</td>\n",
              "      <td>1117</td>\n",
              "      <td>62</td>\n",
              "    </tr>\n",
              "    <tr>\n",
              "      <th>112</th>\n",
              "      <td>84</td>\n",
              "      <td>1121</td>\n",
              "      <td>72</td>\n",
              "    </tr>\n",
              "    <tr>\n",
              "      <th>113</th>\n",
              "      <td>61</td>\n",
              "      <td>1163</td>\n",
              "      <td>60</td>\n",
              "    </tr>\n",
              "    <tr>\n",
              "      <th>114</th>\n",
              "      <td>71</td>\n",
              "      <td>1436</td>\n",
              "      <td>52</td>\n",
              "    </tr>\n",
              "    <tr>\n",
              "      <th>115</th>\n",
              "      <td>56</td>\n",
              "      <td>1440</td>\n",
              "      <td>50</td>\n",
              "    </tr>\n",
              "    <tr>\n",
              "      <th>116</th>\n",
              "      <td>80</td>\n",
              "      <td>1305</td>\n",
              "      <td>75</td>\n",
              "    </tr>\n",
              "    <tr>\n",
              "      <th>117</th>\n",
              "      <td>69</td>\n",
              "      <td>1247</td>\n",
              "      <td>59</td>\n",
              "    </tr>\n",
              "    <tr>\n",
              "      <th>118</th>\n",
              "      <td>65</td>\n",
              "      <td>1165</td>\n",
              "      <td>53</td>\n",
              "    </tr>\n",
              "    <tr>\n",
              "      <th>119</th>\n",
              "      <td>61</td>\n",
              "      <td>1418</td>\n",
              "      <td>60</td>\n",
              "    </tr>\n",
              "  </tbody>\n",
              "</table>\n",
              "</div>"
            ],
            "text/plain": [
              "     Wscore  Lteam  Lscore\n",
              "100      86   1331      82\n",
              "101      90   1434      57\n",
              "102      89   1365      61\n",
              "103      78   1442      67\n",
              "104      78   1149      61\n",
              "105      92   1456      60\n",
              "106      81   1152      63\n",
              "107      93   1227      62\n",
              "108      89   1287      46\n",
              "109      81   1406      73\n",
              "110     102   1260      96\n",
              "111      79   1117      62\n",
              "112      84   1121      72\n",
              "113      61   1163      60\n",
              "114      71   1436      52\n",
              "115      56   1440      50\n",
              "116      80   1305      75\n",
              "117      69   1247      59\n",
              "118      65   1165      53\n",
              "119      61   1418      60"
            ]
          },
          "metadata": {
            "tags": []
          },
          "execution_count": 35
        }
      ]
    },
    {
      "cell_type": "markdown",
      "metadata": {
        "colab_type": "text",
        "id": "pv-jng6jmN2D"
      },
      "source": [
        "## Other resources"
      ]
    },
    {
      "cell_type": "markdown",
      "metadata": {
        "colab_type": "text",
        "id": "WSVSXcVymLf3"
      },
      "source": [
        "Pandas has been around for a while and there are a lot of other good resources if you're still interested on getting the most out of this library.\n",
        "\n",
        "http://pandas.pydata.org/pandas-docs/stable/10min.html\n",
        "https://www.datacamp.com/community/tutorials/pandas-tutorial-dataframe-python\n",
        "http://www.gregreda.com/2013/10/26/intro-to-pandas-data-structures/\n",
        "https://www.dataquest.io/blog/pandas-python-tutorial/\n",
        "https://drive.google.com/file/d/0ByIrJAE4KMTtTUtiVExiUGVkRkE/view\n",
        "https://www.youtube.com/playlist?list=PL5-da3qGB5ICCsgW1MxlZ0Hq8LL5U3u9y"
      ]
    }
  ]
}