{
 "cells": [
  {
   "cell_type": "code",
   "execution_count": null,
   "id": "f50cc113-085d-4dcc-9248-17d1f951c1b6",
   "metadata": {},
   "outputs": [],
   "source": [
    "#Code to modify csv file data\n",
    "\n",
    "import csv\n",
    "\n",
    "input_file = '/path/to/the/dataset/file'  # CSV file with predefined websites\n",
    "output_file = 'name of the output file'  # CSV file to save the websites with \"https://\"\n",
    "encoding = 'latin-1'  # Encoding of the CSV file\n",
    "\n",
    "# Read input CSV file and modify rows\n",
    "with open(input_file, 'r', encoding=encoding, errors='ignore') as file:\n",
    "    reader = csv.reader(file)\n",
    "    rows = list(reader)\n",
    "    for row in rows:\n",
    "        # Modify each cell in the row to add \"https://\"\n",
    "        row[0] = 'http://' + row[0]\n",
    "\n",
    "# Write the modified data into a new CSV file\n",
    "with open(output_file, 'w', newline='', encoding=encoding) as file:\n",
    "    writer = csv.writer(file)\n",
    "    writer.writerows(rows)\n"
   ]
  }
 ],
 "metadata": {
  "kernelspec": {
   "display_name": "Python 3 (ipykernel)",
   "language": "python",
   "name": "python3"
  },
  "language_info": {
   "codemirror_mode": {
    "name": "ipython",
    "version": 3
   },
   "file_extension": ".py",
   "mimetype": "text/x-python",
   "name": "python",
   "nbconvert_exporter": "python",
   "pygments_lexer": "ipython3",
   "version": "3.11.2"
  }
 },
 "nbformat": 4,
 "nbformat_minor": 5
}
